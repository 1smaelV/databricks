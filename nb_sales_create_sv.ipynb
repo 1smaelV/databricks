{
 "cells": [
  {
   "cell_type": "markdown",
   "metadata": {
    "application/vnd.databricks.v1+cell": {
     "cellMetadata": {},
     "inputWidgets": {},
     "nuid": "c4fa032d-f381-4992-8630-6aca98270a6b",
     "showTitle": false,
     "tableResultSettingsMap": {},
     "title": ""
    }
   },
   "source": [
    "-- =========================\n",
    "-- ===== SILVER LAYER =====\n",
    "-- ========================="
   ]
  },
  {
   "cell_type": "code",
   "execution_count": 0,
   "metadata": {
    "application/vnd.databricks.v1+cell": {
     "cellMetadata": {
      "byteLimit": 2048000,
      "implicitDf": true,
      "rowLimit": 10000
     },
     "collapsed": true,
     "inputWidgets": {},
     "nuid": "e7f90eef-4204-4747-af0a-a7ff007cfcad",
     "showTitle": false,
     "tableResultSettingsMap": {},
     "title": ""
    }
   },
   "outputs": [],
   "source": [
    "%sql\n",
    "-- Set default schema for 2-part names\n",
    "USE SCHEMA sales_sv;"
   ]
  },
  {
   "cell_type": "markdown",
   "metadata": {
    "application/vnd.databricks.v1+cell": {
     "cellMetadata": {},
     "inputWidgets": {},
     "nuid": "9602c592-1dfc-40a9-9adf-b2c95303a58c",
     "showTitle": false,
     "tableResultSettingsMap": {},
     "title": ""
    }
   },
   "source": [
    "Customers: typing, trimming, normalize empty email to NULL, deduplicate by customer_id (keep latest signup_date)"
   ]
  },
  {
   "cell_type": "code",
   "execution_count": 0,
   "metadata": {
    "application/vnd.databricks.v1+cell": {
     "cellMetadata": {
      "byteLimit": 2048000,
      "implicitDf": true,
      "rowLimit": 10000
     },
     "collapsed": true,
     "inputWidgets": {},
     "nuid": "e8797c24-282f-434b-a55a-91d783a611a2",
     "showTitle": false,
     "tableResultSettingsMap": {},
     "title": ""
    }
   },
   "outputs": [],
   "source": [
    "%sql\n",
    "CREATE OR REPLACE TABLE sales_sv.customers_sv AS\n",
    "SELECT\n",
    "  CAST(customer_id AS BIGINT)                    AS customer_id,\n",
    "  TRIM(first_name)                               AS first_name,\n",
    "  TRIM(last_name)                                AS last_name,\n",
    "  LOWER(NULLIF(email, ''))                       AS email,\n",
    "  CAST(signup_date AS DATE)                      AS signup_date\n",
    "FROM sales_bz.customers_bz\n",
    "QUALIFY ROW_NUMBER() OVER (PARTITION BY customer_id ORDER BY signup_date DESC) = 1;"
   ]
  },
  {
   "cell_type": "markdown",
   "metadata": {
    "application/vnd.databricks.v1+cell": {
     "cellMetadata": {},
     "inputWidgets": {},
     "nuid": "820db37d-511f-4ccc-bcb0-20d94631310c",
     "showTitle": false,
     "tableResultSettingsMap": {},
     "title": ""
    }
   },
   "source": [
    "Orders: typing, uppercase status, drop NULL amounts, deduplicate by order_id (keep latest order_ts)"
   ]
  },
  {
   "cell_type": "code",
   "execution_count": 0,
   "metadata": {
    "application/vnd.databricks.v1+cell": {
     "cellMetadata": {},
     "collapsed": true,
     "inputWidgets": {},
     "nuid": "4a855233-4fbf-4629-b518-0a44627cf38f",
     "showTitle": false,
     "tableResultSettingsMap": {},
     "title": ""
    }
   },
   "outputs": [],
   "source": [
    "%sql\n",
    "CREATE OR REPLACE TABLE sales_sv.orders_sv AS\n",
    "SELECT\n",
    "  CAST(order_id AS BIGINT)                       AS order_id,\n",
    "  CAST(customer_id AS BIGINT)                    AS customer_id,\n",
    "  CAST(order_date AS TIMESTAMP)                  AS order_ts,\n",
    "  UPPER(status)                                  AS status,\n",
    "  CAST(amount AS DECIMAL(18,2))                  AS amount\n",
    "FROM sales_bz.orders_bz\n",
    "WHERE amount IS NOT NULL\n",
    "QUALIFY ROW_NUMBER() OVER (PARTITION BY order_id ORDER BY order_ts DESC) = 1;"
   ]
  },
  {
   "cell_type": "markdown",
   "metadata": {
    "application/vnd.databricks.v1+cell": {
     "cellMetadata": {},
     "inputWidgets": {},
     "nuid": "42b92d4a-bc6b-4482-a2f3-da0d45fc0d36",
     "showTitle": false,
     "tableResultSettingsMap": {},
     "title": ""
    }
   },
   "source": [
    "Categories: basic typing/trim"
   ]
  },
  {
   "cell_type": "code",
   "execution_count": 0,
   "metadata": {
    "application/vnd.databricks.v1+cell": {
     "cellMetadata": {},
     "inputWidgets": {},
     "nuid": "abdff9de-2593-428a-913e-56c0141fecea",
     "showTitle": false,
     "tableResultSettingsMap": {},
     "title": ""
    }
   },
   "outputs": [],
   "source": [
    "%sql\n",
    "CREATE OR REPLACE TABLE sales_sv.categories_sv AS\n",
    "SELECT\n",
    "  CAST(category_id AS BIGINT)                    AS category_id,\n",
    "  TRIM(category_name)                            AS category_name,\n",
    "  CAST(parent_category_id AS BIGINT)             AS parent_category_id\n",
    "FROM common_bz.categories_bz;"
   ]
  },
  {
   "cell_type": "markdown",
   "metadata": {
    "application/vnd.databricks.v1+cell": {
     "cellMetadata": {},
     "inputWidgets": {},
     "nuid": "8d31e68d-48dd-4dc3-8e23-879fdc116541",
     "showTitle": false,
     "tableResultSettingsMap": {},
     "title": ""
    }
   },
   "source": [
    "Products: typing and trimming"
   ]
  },
  {
   "cell_type": "code",
   "execution_count": 0,
   "metadata": {
    "application/vnd.databricks.v1+cell": {
     "cellMetadata": {},
     "inputWidgets": {},
     "nuid": "4ae39e79-fc9d-40ff-86d9-e26fc140e722",
     "showTitle": false,
     "tableResultSettingsMap": {},
     "title": ""
    }
   },
   "outputs": [],
   "source": [
    "%sql\n",
    "CREATE OR REPLACE TABLE sales_sv.products_sv AS\n",
    "SELECT\n",
    "  CAST(product_id AS BIGINT)                     AS product_id,\n",
    "  TRIM(product_name)                             AS product_name,\n",
    "  CAST(category_id AS BIGINT)                    AS category_id,\n",
    "  CAST(unit_price AS DECIMAL(18,2))              AS unit_price,\n",
    "  CAST(active_flag AS INT)                       AS active_flag,\n",
    "  CAST(created_at AS TIMESTAMP)                  AS created_at\n",
    "FROM common_bz.products_bz;"
   ]
  },
  {
   "cell_type": "markdown",
   "metadata": {
    "application/vnd.databricks.v1+cell": {
     "cellMetadata": {},
     "inputWidgets": {},
     "nuid": "6b792078-646b-4ff0-931d-4ca4916bf9b4",
     "showTitle": false,
     "tableResultSettingsMap": {},
     "title": ""
    }
   },
   "source": [
    "Order Items: typing"
   ]
  },
  {
   "cell_type": "code",
   "execution_count": 0,
   "metadata": {
    "application/vnd.databricks.v1+cell": {
     "cellMetadata": {},
     "inputWidgets": {},
     "nuid": "0e83fe80-588b-4158-94aa-dac2e231d822",
     "showTitle": false,
     "tableResultSettingsMap": {},
     "title": ""
    }
   },
   "outputs": [],
   "source": [
    "%sql\n",
    "CREATE OR REPLACE TABLE sales_sv.order_items_sv AS\n",
    "SELECT\n",
    "  CAST(order_item_id AS BIGINT)                  AS order_item_id,\n",
    "  CAST(order_id AS BIGINT)                       AS order_id,\n",
    "  CAST(product_id AS BIGINT)                     AS product_id,\n",
    "  CAST(quantity AS INT)                          AS quantity,\n",
    "  CAST(unit_price AS DECIMAL(18,2))              AS unit_price,\n",
    "  CAST(line_amount AS DECIMAL(18,2))             AS line_amount\n",
    "FROM sales_bz.order_items_bz;"
   ]
  },
  {
   "cell_type": "markdown",
   "metadata": {
    "application/vnd.databricks.v1+cell": {
     "cellMetadata": {},
     "inputWidgets": {},
     "nuid": "ff37400e-de77-43a1-81a6-82f252331b2b",
     "showTitle": false,
     "tableResultSettingsMap": {},
     "title": ""
    }
   },
   "source": [
    "Payments: standardize method/status + typing"
   ]
  },
  {
   "cell_type": "code",
   "execution_count": 0,
   "metadata": {
    "application/vnd.databricks.v1+cell": {
     "cellMetadata": {},
     "inputWidgets": {},
     "nuid": "b50296b3-b1fa-4a57-995b-deef0fa789fd",
     "showTitle": false,
     "tableResultSettingsMap": {},
     "title": ""
    }
   },
   "outputs": [],
   "source": [
    "%sql\n",
    "CREATE OR REPLACE TABLE sales_sv.payments_sv AS\n",
    "SELECT\n",
    "  CAST(payment_id AS BIGINT)                     AS payment_id,\n",
    "  CAST(order_id AS BIGINT)                       AS order_id,\n",
    "  UPPER(TRIM(payment_method))                    AS payment_method,\n",
    "  UPPER(TRIM(payment_status))                    AS payment_status,\n",
    "  CAST(payment_amount AS DECIMAL(18,2))          AS payment_amount,\n",
    "  CAST(payment_date AS TIMESTAMP)                AS payment_ts\n",
    "FROM sales_bz.payments_bz;"
   ]
  },
  {
   "cell_type": "markdown",
   "metadata": {
    "application/vnd.databricks.v1+cell": {
     "cellMetadata": {},
     "inputWidgets": {},
     "nuid": "1510b11e-bd82-482e-a03b-66f544576f8c",
     "showTitle": false,
     "tableResultSettingsMap": {},
     "title": ""
    }
   },
   "source": [
    "Shipments: typing + standardization"
   ]
  },
  {
   "cell_type": "code",
   "execution_count": 0,
   "metadata": {
    "application/vnd.databricks.v1+cell": {
     "cellMetadata": {},
     "inputWidgets": {},
     "nuid": "fa6a64d9-050d-41fe-b362-abf76c487d29",
     "showTitle": false,
     "tableResultSettingsMap": {},
     "title": ""
    }
   },
   "outputs": [],
   "source": [
    "%sql\n",
    "CREATE OR REPLACE TABLE sales_sv.shipments_sv AS\n",
    "SELECT\n",
    "  CAST(shipment_id AS BIGINT)                    AS shipment_id,\n",
    "  CAST(order_id AS BIGINT)                       AS order_id,\n",
    "  CAST(ship_date AS TIMESTAMP)                   AS ship_ts,\n",
    "  TRIM(carrier)                                  AS carrier,\n",
    "  TRIM(service)                                  AS service,\n",
    "  UPPER(TRIM(ship_status))                       AS ship_status,\n",
    "  CAST(shipping_cost AS DECIMAL(18,2))           AS shipping_cost\n",
    "FROM sales_bz.shipments_bz;"
   ]
  },
  {
   "cell_type": "markdown",
   "metadata": {
    "application/vnd.databricks.v1+cell": {
     "cellMetadata": {},
     "inputWidgets": {},
     "nuid": "d080fc9d-e4d4-4e13-99a9-9ea103a35b16",
     "showTitle": false,
     "tableResultSettingsMap": {},
     "title": ""
    }
   },
   "source": [
    "Refunds: typing"
   ]
  },
  {
   "cell_type": "code",
   "execution_count": 0,
   "metadata": {
    "application/vnd.databricks.v1+cell": {
     "cellMetadata": {},
     "inputWidgets": {},
     "nuid": "557e4e47-b4a6-4515-80ae-8a37905e5178",
     "showTitle": false,
     "tableResultSettingsMap": {},
     "title": ""
    }
   },
   "outputs": [],
   "source": [
    "%sql\n",
    "CREATE OR REPLACE TABLE sales_sv.refunds_sv AS\n",
    "SELECT\n",
    "  CAST(refund_id AS BIGINT)                      AS refund_id,\n",
    "  CAST(order_id AS BIGINT)                       AS order_id,\n",
    "  CAST(refund_amount AS DECIMAL(18,2))           AS refund_amount,\n",
    "  TRIM(refund_reason)                            AS refund_reason,\n",
    "  CAST(refund_date AS TIMESTAMP)                 AS refund_ts\n",
    "FROM sales_bz.refunds_bz;"
   ]
  }
 ],
 "metadata": {
  "application/vnd.databricks.v1+notebook": {
   "computePreferences": null,
   "dashboards": [],
   "environmentMetadata": {
    "base_environment": "",
    "environment_version": "3"
   },
   "inputWidgetPreferences": null,
   "language": "python",
   "notebookMetadata": {
    "mostRecentlyExecutedCommandWithImplicitDF": {
     "commandId": 6803399454575084,
     "dataframes": [
      "_sqldf"
     ]
    },
    "pythonIndentUnit": 4
   },
   "notebookName": "nb_sales_create_sv",
   "widgets": {}
  },
  "language_info": {
   "name": "python"
  }
 },
 "nbformat": 4,
 "nbformat_minor": 0
}

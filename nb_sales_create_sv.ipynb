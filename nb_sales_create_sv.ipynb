{
 "cells": [
  {
   "cell_type": "markdown",
   "metadata": {
    "application/vnd.databricks.v1+cell": {
     "cellMetadata": {},
     "inputWidgets": {},
     "nuid": "c4fa032d-f381-4992-8630-6aca98270a6b",
     "showTitle": false,
     "tableResultSettingsMap": {},
     "title": ""
    }
   },
   "source": [
    "-- =========================\n",
    "-- ===== SILVER LAYER =====\n",
    "-- ========================="
   ]
  },
  {
   "cell_type": "code",
   "execution_count": 0,
   "metadata": {
    "application/vnd.databricks.v1+cell": {
     "cellMetadata": {
      "byteLimit": 2048000,
      "implicitDf": true,
      "rowLimit": 10000
     },
     "collapsed": true,
     "inputWidgets": {},
     "nuid": "e7f90eef-4204-4747-af0a-a7ff007cfcad",
     "showTitle": false,
     "tableResultSettingsMap": {},
     "title": ""
    }
   },
   "outputs": [],
   "source": [
    "%sql\n",
    "-- Set default schema for 2-part names\n",
    "USE SCHEMA sales_sv;"
   ]
  },
  {
   "cell_type": "markdown",
   "metadata": {
    "application/vnd.databricks.v1+cell": {
     "cellMetadata": {},
     "inputWidgets": {},
     "nuid": "9602c592-1dfc-40a9-9adf-b2c95303a58c",
     "showTitle": false,
     "tableResultSettingsMap": {},
     "title": ""
    }
   },
   "source": [
    "Customers: typing, trimming, normalize empty email to NULL, deduplicate by customer_id (keep latest signup_date)"
   ]
  },
  {
   "cell_type": "code",
   "execution_count": 0,
   "metadata": {
    "application/vnd.databricks.v1+cell": {
     "cellMetadata": {
      "byteLimit": 2048000,
      "implicitDf": true,
      "rowLimit": 10000
     },
     "collapsed": true,
     "inputWidgets": {},
     "nuid": "e8797c24-282f-434b-a55a-91d783a611a2",
     "showTitle": false,
     "tableResultSettingsMap": {},
     "title": ""
    }
   },
   "outputs": [],
   "source": [
    "%sql\n",
    "CREATE OR REPLACE TABLE sales_sv.customers_sv AS\n",
    "SELECT\n",
    "  CAST(customer_id AS BIGINT)                    AS customer_id,\n",
    "  TRIM(first_name)                               AS first_name,\n",
    "  TRIM(last_name)                                AS last_name,\n",
    "  LOWER(NULLIF(email, ''))                       AS email,\n",
    "  CAST(signup_date AS DATE)                      AS signup_date\n",
    "FROM sales_bz.customers_bz\n",
    "QUALIFY ROW_NUMBER() OVER (PARTITION BY customer_id ORDER BY signup_date DESC) = 1;"
   ]
  },
  {
   "cell_type": "markdown",
   "metadata": {
    "application/vnd.databricks.v1+cell": {
     "cellMetadata": {},
     "inputWidgets": {},
     "nuid": "820db37d-511f-4ccc-bcb0-20d94631310c",
     "showTitle": false,
     "tableResultSettingsMap": {},
     "title": ""
    }
   },
   "source": [
    "Orders: typing, uppercase status, drop NULL amounts, deduplicate by order_id (keep latest order_ts)"
   ]
  },
  {
   "cell_type": "code",
   "execution_count": 0,
   "metadata": {
    "application/vnd.databricks.v1+cell": {
     "cellMetadata": {},
     "collapsed": true,
     "inputWidgets": {},
     "nuid": "4a855233-4fbf-4629-b518-0a44627cf38f",
     "showTitle": false,
     "tableResultSettingsMap": {},
     "title": ""
    }
   },
   "outputs": [],
   "source": [
    "%sql\n",
    "CREATE OR REPLACE TABLE sales_sv.orders_sv AS\n",
    "SELECT\n",
    "  CAST(order_id AS BIGINT)                       AS order_id,\n",
    "  CAST(customer_id AS BIGINT)                    AS customer_id,\n",
    "  CAST(order_date AS TIMESTAMP)                  AS order_ts,\n",
    "  UPPER(status)                                  AS status,\n",
    "  CAST(amount AS DECIMAL(18,2))                  AS amount\n",
    "FROM sales_bz.orders_bz\n",
    "WHERE amount IS NOT NULL\n",
    "QUALIFY ROW_NUMBER() OVER (PARTITION BY order_id ORDER BY order_ts DESC) = 1;"
   ]
  },
  {
   "cell_type": "markdown",
   "metadata": {
    "application/vnd.databricks.v1+cell": {
     "cellMetadata": {},
     "inputWidgets": {},
     "nuid": "42b92d4a-bc6b-4482-a2f3-da0d45fc0d36",
     "showTitle": false,
     "tableResultSettingsMap": {},
     "title": ""
    }
   },
   "source": [
    "-- Categories: basic typing/trim"
   ]
  },
  {
   "cell_type": "code",
   "execution_count": 0,
   "metadata": {
    "application/vnd.databricks.v1+cell": {
     "cellMetadata": {},
     "inputWidgets": {},
     "nuid": "abdff9de-2593-428a-913e-56c0141fecea",
     "showTitle": false,
     "tableResultSettingsMap": {},
     "title": ""
    }
   },
   "outputs": [],
   "source": [
    "%sql\n",
    "CREATE OR REPLACE TABLE sales_sv.categories_sv AS\n",
    "SELECT\n",
    "  CAST(category_id AS BIGINT)                    AS category_id,\n",
    "  TRIM(category_name)                            AS category_name,\n",
    "  CAST(parent_category_id AS BIGINT)             AS parent_category_id\n",
    "FROM common_bz.categories_bronze;"
   ]
  }
 ],
 "metadata": {
  "application/vnd.databricks.v1+notebook": {
   "computePreferences": null,
   "dashboards": [],
   "environmentMetadata": {
    "base_environment": "",
    "environment_version": "3"
   },
   "inputWidgetPreferences": null,
   "language": "python",
   "notebookMetadata": {
    "mostRecentlyExecutedCommandWithImplicitDF": {
     "commandId": 6803399454575084,
     "dataframes": [
      "_sqldf"
     ]
    },
    "pythonIndentUnit": 4
   },
   "notebookName": "nb_sales_create_sv",
   "widgets": {}
  },
  "language_info": {
   "name": "python"
  }
 },
 "nbformat": 4,
 "nbformat_minor": 0
}

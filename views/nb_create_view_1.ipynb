{
 "cells": [
  {
   "cell_type": "markdown",
   "metadata": {
    "application/vnd.databricks.v1+cell": {
     "cellMetadata": {},
     "inputWidgets": {},
     "nuid": "e552844e-5a2f-49f8-b765-209c8adc60d1",
     "showTitle": false,
     "tableResultSettingsMap": {},
     "title": ""
    }
   },
   "source": [
    "Customer KPIs (VIEW)"
   ]
  },
  {
   "cell_type": "code",
   "execution_count": 0,
   "metadata": {
    "application/vnd.databricks.v1+cell": {
     "cellMetadata": {
      "byteLimit": 2048000,
      "implicitDf": true,
      "rowLimit": 10000
     },
     "inputWidgets": {},
     "nuid": "5f4df804-c760-475e-bdfb-4953a8a34f36",
     "showTitle": false,
     "tableResultSettingsMap": {},
     "title": ""
    }
   },
   "outputs": [],
   "source": [
    "%sql\n",
    "CREATE OR REPLACE VIEW sales_sv.vw_customer_kpis AS\n",
    "SELECT\n",
    "  c.customer_id,\n",
    "  CONCAT(c.first_name,' ',c.last_name)                             AS full_name,\n",
    "  MIN(c.signup_date)                                               AS signup_date,\n",
    "  COUNT(o.order_id)                                                AS orders_count,\n",
    "  SUM(CASE WHEN o.status = 'COMPLETED' THEN 1 ELSE 0 END)          AS completed_orders,\n",
    "  SUM(CASE WHEN o.status = 'COMPLETED' THEN o.amount ELSE 0 END)   AS customer_spend,\n",
    "  CASE WHEN COUNT(o.order_id) > 0\n",
    "       THEN SUM(CASE WHEN o.status='COMPLETED' THEN o.amount ELSE 0 END) / NULLIF(COUNT(o.order_id),0)\n",
    "       ELSE NULL END                                               AS aov\n",
    "FROM workspace.sales_sv.customers_sv c\n",
    "LEFT JOIN workspace.sales_sv.orders_sv o\n",
    "  ON c.customer_id = o.customer_id\n",
    "GROUP BY c.customer_id, full_name;"
   ]
  },
  {
   "cell_type": "markdown",
   "metadata": {
    "application/vnd.databricks.v1+cell": {
     "cellMetadata": {},
     "inputWidgets": {},
     "nuid": "1dc65fca-a16f-4d35-8969-ac909568e648",
     "showTitle": false,
     "tableResultSettingsMap": {},
     "title": ""
    }
   },
   "source": [
    "Product KPIs (VIEW)\n"
   ]
  },
  {
   "cell_type": "code",
   "execution_count": 0,
   "metadata": {
    "application/vnd.databricks.v1+cell": {
     "cellMetadata": {
      "byteLimit": 2048000,
      "implicitDf": true,
      "rowLimit": 10000
     },
     "inputWidgets": {},
     "nuid": "6670af00-7812-4acc-8201-254f5a4de8ba",
     "showTitle": false,
     "tableResultSettingsMap": {},
     "title": ""
    }
   },
   "outputs": [],
   "source": [
    "%sql\n",
    "CREATE OR REPLACE VIEW sales_sv.vw_product_kpis AS\n",
    "SELECT\n",
    "  p.product_id,\n",
    "  p.product_name,\n",
    "  p.category_id,\n",
    "  SUM(oi.quantity)                                                 AS units_sold,\n",
    "  SUM(CASE WHEN o.status='COMPLETED' THEN oi.line_amount ELSE 0 END) AS revenue,\n",
    "  COUNT(DISTINCT CASE WHEN o.status='COMPLETED' THEN o.order_id END)  AS orders_count\n",
    "FROM sales_sv.order_items_sv oi\n",
    "JOIN common_sv.products_sv p  ON oi.product_id = p.product_id\n",
    "JOIN sales_sv.orders_sv   o  ON oi.order_id   = o.order_id\n",
    "GROUP BY p.product_id, p.product_name, p.category_id;"
   ]
  },
  {
   "cell_type": "markdown",
   "metadata": {
    "application/vnd.databricks.v1+cell": {
     "cellMetadata": {},
     "inputWidgets": {},
     "nuid": "7b3f9e72-04a9-49c9-8e7c-6a9f8e3a25e1",
     "showTitle": false,
     "tableResultSettingsMap": {},
     "title": ""
    }
   },
   "source": [
    "Order Status Distribution Insights for Sales Data"
   ]
  },
  {
   "cell_type": "code",
   "execution_count": 0,
   "metadata": {
    "application/vnd.databricks.v1+cell": {
     "cellMetadata": {
      "byteLimit": 2048000,
      "implicitDf": true,
      "rowLimit": 10000
     },
     "inputWidgets": {},
     "nuid": "0364d079-4339-4ef5-ab29-1129c461c716",
     "showTitle": false,
     "tableResultSettingsMap": {},
     "title": ""
    }
   },
   "outputs": [],
   "source": [
    "%sql\n",
    "CREATE OR REPLACE VIEW sales_sv.vw_order_status_distribution AS\n",
    "SELECT UPPER(status) AS status, COUNT(*) AS n_orders\n",
    "FROM sales_sv.orders_sv\n",
    "GROUP BY UPPER(status)\n",
    "ORDER BY n_orders DESC;"
   ]
  },
  {
   "cell_type": "markdown",
   "metadata": {
    "application/vnd.databricks.v1+cell": {
     "cellMetadata": {},
     "inputWidgets": {},
     "nuid": "a2ed2e02-b00c-4030-830e-93be4bb554f6",
     "showTitle": false,
     "tableResultSettingsMap": {},
     "title": ""
    }
   },
   "source": [
    "Payment summary (VIEW)"
   ]
  },
  {
   "cell_type": "code",
   "execution_count": 0,
   "metadata": {
    "application/vnd.databricks.v1+cell": {
     "cellMetadata": {
      "byteLimit": 2048000,
      "implicitDf": true,
      "rowLimit": 10000
     },
     "inputWidgets": {},
     "nuid": "98aae966-9fba-4f45-a056-0fd4f4e523d0",
     "showTitle": false,
     "tableResultSettingsMap": {},
     "title": ""
    }
   },
   "outputs": [],
   "source": [
    "%sql\n",
    "CREATE OR REPLACE VIEW poc_sales.vw_payment_summary AS\n",
    "SELECT\n",
    "  payment_method,\n",
    "  payment_status,\n",
    "  COUNT(*)            AS tx_count,\n",
    "  SUM(payment_amount) AS tx_amount\n",
    "FROM sales_sv.payments_sv\n",
    "GROUP BY payment_method, payment_status;"
   ]
  },
  {
   "cell_type": "markdown",
   "metadata": {
    "application/vnd.databricks.v1+cell": {
     "cellMetadata": {},
     "inputWidgets": {},
     "nuid": "7bb163ed-f29e-44c9-959a-aaafab426c40",
     "showTitle": false,
     "tableResultSettingsMap": {},
     "title": ""
    }
   },
   "source": [
    "Shipping SLA (VIEW)"
   ]
  },
  {
   "cell_type": "code",
   "execution_count": 0,
   "metadata": {
    "application/vnd.databricks.v1+cell": {
     "cellMetadata": {
      "byteLimit": 2048000,
      "implicitDf": true,
      "rowLimit": 10000
     },
     "inputWidgets": {},
     "nuid": "a8025538-2e8a-4d4a-a3e8-7367bcae020c",
     "showTitle": false,
     "tableResultSettingsMap": {},
     "title": ""
    }
   },
   "outputs": [],
   "source": [
    "%sql\n",
    "CREATE OR REPLACE VIEW poc_sales.vw_shipping_sla AS\n",
    "SELECT\n",
    "  s.order_id,\n",
    "  DATE(o.order_ts)                                 AS order_date,\n",
    "  DATE(s.ship_ts)                                  AS ship_date,\n",
    "  DATEDIFF(DATE(s.ship_ts), DATE(o.order_ts))      AS days_to_ship,\n",
    "  s.carrier, s.service\n",
    "FROM sales_sv.shipments_sv s\n",
    "JOIN sales_sv.orders_sv o ON s.order_id = o.order_id\n",
    "WHERE o.status = 'COMPLETED';"
   ]
  },
  {
   "cell_type": "markdown",
   "metadata": {
    "application/vnd.databricks.v1+cell": {
     "cellMetadata": {},
     "inputWidgets": {},
     "nuid": "eb6b5172-0554-4e8a-9820-ce58631011a8",
     "showTitle": false,
     "tableResultSettingsMap": {},
     "title": ""
    }
   },
   "source": [
    "One row per order, joined with customers, aggregated items, payments, shipments, refunds"
   ]
  },
  {
   "cell_type": "code",
   "execution_count": 0,
   "metadata": {
    "application/vnd.databricks.v1+cell": {
     "cellMetadata": {
      "byteLimit": 2048000,
      "implicitDf": true,
      "rowLimit": 10000
     },
     "inputWidgets": {},
     "nuid": "e9cebfad-7273-4f56-bfd5-01f2eafa965b",
     "showTitle": false,
     "tableResultSettingsMap": {},
     "title": ""
    }
   },
   "outputs": [],
   "source": [
    "%sql\n",
    "CREATE OR REPLACE VIEW sales_gl.vw_universe_order AS\n",
    "WITH\n",
    "-- Items aggregated per order (join products & categories)\n",
    "oi AS (\n",
    "  SELECT\n",
    "    oi.order_id,\n",
    "    COUNT(*)                                     AS items_count,\n",
    "    SUM(oi.quantity)                             AS items_qty_total,\n",
    "    SUM(oi.line_amount)                          AS items_amount_total,\n",
    "    COUNT(DISTINCT oi.product_id)                AS products_distinct,\n",
    "    ARRAY_JOIN(COLLECT_SET(p.product_name), ', ')    AS products_csv,\n",
    "    ARRAY_JOIN(COLLECT_SET(c.category_name), ', ')   AS categories_csv\n",
    "  FROM sales_sv.order_items_sv oi\n",
    "  JOIN sales_sv.products_sv p   ON oi.product_id = p.product_id\n",
    "  JOIN sales_sv.categories_sv c ON p.category_id = c.category_id\n",
    "  GROUP BY oi.order_id\n",
    "),\n",
    "-- Payments aggregated per order\n",
    "pay AS (\n",
    "  SELECT\n",
    "    order_id,\n",
    "    SUM(payment_amount)                                                 AS payment_amount_total,\n",
    "    MAX(payment_ts)                                                   AS last_payment_date,\n",
    "    ELEMENT_AT(SORT_ARRAY(COLLECT_LIST(payment_method)), 1)             AS any_payment_method,\n",
    "    -- success flag if any settled payment\n",
    "    MAX(CASE WHEN UPPER(payment_status) = 'SETTLED' THEN 1 ELSE 0 END)  AS has_settled_payment\n",
    "  FROM sales_sv.payments_sv\n",
    "  GROUP BY order_id\n",
    "),\n",
    "-- Shipments aggregated per order\n",
    "ship AS (\n",
    "  SELECT\n",
    "    s.order_id,\n",
    "    MIN(CAST(s.ship_ts AS DATE))                        AS ship_first_date,\n",
    "    MAX(CAST(s.ship_ts AS DATE))                        AS ship_last_date,\n",
    "    AVG(DATEDIFF(CAST(s.ship_ts AS DATE), CAST(o.order_ts AS DATE))) AS avg_days_to_ship,\n",
    "    SUM(s.shipping_cost)                                 AS shipping_cost_total,\n",
    "    ELEMENT_AT(SORT_ARRAY(COLLECT_LIST(s.carrier)), 1)   AS any_carrier,\n",
    "    ELEMENT_AT(SORT_ARRAY(COLLECT_LIST(s.service)), 1)   AS any_service\n",
    "  FROM sales_sv.shipments_sv s\n",
    "  JOIN sales_sv.orders_sv    o ON s.order_id = o.order_id\n",
    "  GROUP BY s.order_id\n",
    "),\n",
    "-- Refunds aggregated per order\n",
    "ref AS (\n",
    "  SELECT\n",
    "    order_id,\n",
    "    SUM(refund_amount) AS refund_amount_total,\n",
    "    MAX(refund_ts)   AS last_refund_date\n",
    "  FROM sales_sv.refunds_sv\n",
    "  GROUP BY order_id\n",
    ")\n",
    "SELECT\n",
    "  -- Order grain\n",
    "  o.order_id,\n",
    "  CAST(o.order_ts AS TIMESTAMP)                       AS order_ts,\n",
    "  CAST(o.order_ts AS DATE)                            AS order_date,\n",
    "  UPPER(o.status)                                     AS status,\n",
    "  CAST(o.amount AS DECIMAL(18,2))                     AS order_amount,\n",
    "  CASE WHEN UPPER(o.status) = 'COMPLETED' THEN o.amount ELSE 0 END AS revenue_net,\n",
    "  -- Customer\n",
    "  o.customer_id,\n",
    "  CONCAT(c.first_name, ' ', c.last_name)              AS customer_name,\n",
    "  LOWER(c.email)                                      AS customer_email,\n",
    "  c.signup_date,\n",
    "  -- Items (aggregated)\n",
    "  COALESCE(oi.items_count, 0)                         AS items_count,\n",
    "  COALESCE(oi.items_qty_total, 0)                     AS items_qty_total,\n",
    "  COALESCE(oi.items_amount_total, 0)                  AS items_amount_total,\n",
    "  COALESCE(oi.products_distinct, 0)                   AS products_distinct,\n",
    "  COALESCE(oi.products_csv, '')                       AS products_csv,\n",
    "  COALESCE(oi.categories_csv, '')                     AS categories_csv,\n",
    "  -- Payments (aggregated)\n",
    "  COALESCE(pay.payment_amount_total, 0)               AS payment_amount_total,\n",
    "  pay.last_payment_date,\n",
    "  pay.any_payment_method,\n",
    "  COALESCE(pay.has_settled_payment, 0)                AS has_settled_payment,\n",
    "  -- Shipments (aggregated)\n",
    "  ship.ship_first_date,\n",
    "  ship.ship_last_date,\n",
    "  ship.avg_days_to_ship,\n",
    "  COALESCE(ship.shipping_cost_total, 0)               AS shipping_cost_total,\n",
    "  ship.any_carrier,\n",
    "  ship.any_service,\n",
    "  -- Refunds (aggregated)\n",
    "  COALESCE(ref.refund_amount_total, 0)                AS refund_amount_total,\n",
    "  ref.last_refund_date\n",
    "FROM sales_sv.orders_sv o\n",
    "LEFT JOIN sales_sv.customers_sv c ON o.customer_id = c.customer_id\n",
    "LEFT JOIN oi   ON o.order_id = oi.order_id\n",
    "LEFT JOIN pay  ON o.order_id = pay.order_id\n",
    "LEFT JOIN ship ON o.order_id = ship.order_id\n",
    "LEFT JOIN ref  ON o.order_id = ref.order_id;"
   ]
  },
  {
   "cell_type": "markdown",
   "metadata": {
    "application/vnd.databricks.v1+cell": {
     "cellMetadata": {},
     "inputWidgets": {},
     "nuid": "4bdf7626-0a22-44eb-b327-ecca88fef665",
     "showTitle": false,
     "tableResultSettingsMap": {},
     "title": ""
    }
   },
   "source": [
    "One row per order_item, joined with product, category, order, customer, and order-level aggregates"
   ]
  },
  {
   "cell_type": "code",
   "execution_count": 0,
   "metadata": {
    "application/vnd.databricks.v1+cell": {
     "cellMetadata": {
      "byteLimit": 2048000,
      "implicitDf": true,
      "rowLimit": 10000
     },
     "inputWidgets": {},
     "nuid": "cebb6248-eb0a-4536-909c-3756d1ba3aca",
     "showTitle": false,
     "tableResultSettingsMap": {},
     "title": ""
    }
   },
   "outputs": [],
   "source": [
    "%sql\n",
    "CREATE OR REPLACE VIEW sales_gl.vw_universe_order_item AS\n",
    "WITH\n",
    "pay AS (\n",
    "  SELECT order_id,\n",
    "         SUM(payment_amount) AS payment_amount_total\n",
    "  FROM sales_sv.payments_sv\n",
    "  GROUP BY order_id\n",
    "),\n",
    "ship AS (\n",
    "  SELECT\n",
    "    s.order_id,\n",
    "    AVG(DATEDIFF(CAST(s.ship_ts AS DATE), CAST(o.order_ts AS DATE))) AS avg_days_to_ship\n",
    "  FROM sales_sv.shipments_sv s\n",
    "  JOIN sales_sv.orders_sv    o ON s.order_id = o.order_id\n",
    "  GROUP BY s.order_id\n",
    "),\n",
    "ref AS (\n",
    "  SELECT order_id, SUM(refund_amount) AS refund_amount_total\n",
    "  FROM sales_sv.refunds_sv\n",
    "  GROUP BY order_id\n",
    ")\n",
    "SELECT\n",
    "  -- Item grain\n",
    "  oi.order_item_id,\n",
    "  oi.order_id,\n",
    "  oi.product_id,\n",
    "  p.product_name,\n",
    "  p.category_id,\n",
    "  c.category_name,\n",
    "  oi.quantity,\n",
    "  oi.unit_price,\n",
    "  oi.line_amount,\n",
    "  -- Order context\n",
    "  CAST(o.order_ts AS TIMESTAMP)         AS order_ts,\n",
    "  CAST(o.order_ts AS DATE)              AS order_date,\n",
    "  UPPER(o.status)                       AS order_status,\n",
    "  CAST(o.amount AS DECIMAL(18,2))       AS order_amount,\n",
    "  -- Customer context\n",
    "  o.customer_id,\n",
    "  CONCAT(cu.first_name, ' ', cu.last_name) AS customer_name,\n",
    "  LOWER(cu.email)                         AS customer_email,\n",
    "  -- Order-level aggregates\n",
    "  COALESCE(pay.payment_amount_total,0)    AS payment_amount_total,\n",
    "  COALESCE(ship.avg_days_to_ship, NULL)   AS avg_days_to_ship,\n",
    "  COALESCE(ref.refund_amount_total,0)     AS refund_amount_total\n",
    "FROM sales_sv.order_items_sv oi\n",
    "JOIN sales_sv.products_sv  p   ON oi.product_id = p.product_id\n",
    "JOIN sales_sv.categories_sv c  ON p.category_id = c.category_id\n",
    "JOIN sales_sv.orders_sv    o   ON oi.order_id = o.order_id\n",
    "LEFT JOIN sales_sv.customers_sv cu ON o.customer_id = cu.customer_id\n",
    "LEFT JOIN pay  ON oi.order_id = pay.order_id\n",
    "LEFT JOIN ship ON oi.order_id = ship.order_id\n",
    "LEFT JOIN ref  ON oi.order_id = ref.order_id;"
   ]
  }
 ],
 "metadata": {
  "application/vnd.databricks.v1+notebook": {
   "computePreferences": null,
   "dashboards": [],
   "environmentMetadata": {
    "base_environment": "",
    "environment_version": "3"
   },
   "inputWidgetPreferences": null,
   "language": "python",
   "notebookMetadata": {
    "mostRecentlyExecutedCommandWithImplicitDF": {
     "commandId": 7207915639423424,
     "dataframes": [
      "_sqldf"
     ]
    },
    "pythonIndentUnit": 4
   },
   "notebookName": "nb_create_view_1",
   "widgets": {}
  },
  "language_info": {
   "name": "python"
  }
 },
 "nbformat": 4,
 "nbformat_minor": 0
}
